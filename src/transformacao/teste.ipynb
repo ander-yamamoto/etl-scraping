{
 "cells": [
  {
   "cell_type": "code",
   "execution_count": 5,
   "id": "c9aee374",
   "metadata": {},
   "outputs": [],
   "source": [
    "import pandas as pd\n",
    "import sqlite3\n",
    "import datetime\n",
    "import os\n"
   ]
  },
  {
   "cell_type": "code",
   "execution_count": 7,
   "id": "72a7d783",
   "metadata": {},
   "outputs": [
    {
     "name": "stdout",
     "output_type": "stream",
     "text": [
      "           brand                                               name old_price  \\\n",
      "0           FILA  Tenis Fila Efecto Masculino Caminhada Corrida ...    392,43   \n",
      "1       POLO BLU  Tênis Esportivo Polo Blu Confortável Tecido + ...    207,88   \n",
      "2           FILA  Tenis Fila Efecto Masculino Caminhada Corrida ...    392,43   \n",
      "3       POLO BLU  Tênis Esportivo Polo Blu Confortável Tecido + ...    207,88   \n",
      "4       POLO BLU  Tênis Esportivo Academia Polo Blu + Óculos Lev...      None   \n",
      "..           ...                                                ...       ...   \n",
      "554          RDW  Kit 02 Tênis Masculinos Corrida Academia Camin...    163,90   \n",
      "555    ULTRABONE  Tênis Academia Esportivo Unisex Confortável Tr...      None   \n",
      "556  NEW BALANCE       Tênis New Balance 1080 V14 V4 M1080V14 color      None   \n",
      "557    OLYMPIKUS            Tênis Casual Masculino Only 2 Olympikus      None   \n",
      "558         FILA               Fila Float Maxxi 2 Masculino Adultos    699,90   \n",
      "\n",
      "    current_price discount  reviews  reviews_total  \n",
      "0          199,99  49% OFF      4.7         1871.0  \n",
      "1           83,15  60% OFF      NaN            NaN  \n",
      "2          199,99  49% OFF      4.7         1871.0  \n",
      "3           83,15  60% OFF      NaN            NaN  \n",
      "4          141,29     None      NaN            NaN  \n",
      "..            ...      ...      ...            ...  \n",
      "554        155,70   5% OFF      NaN            NaN  \n",
      "555         78,99     None      NaN            NaN  \n",
      "556          None   9% OFF      5.0           35.0  \n",
      "557          None     None      4.8         6188.0  \n",
      "558        587,24  16% OFF      4.7           39.0  \n",
      "\n",
      "[559 rows x 7 columns]\n"
     ]
    }
   ],
   "source": [
    "# definir o caminho para o arquivo JSONL\n",
    "df = pd.read_json('../../data/data.jsonl', lines=True)\n",
    "print (df)"
   ]
  },
  {
   "cell_type": "code",
   "execution_count": 6,
   "id": "69501b98",
   "metadata": {},
   "outputs": [
    {
     "data": {
      "text/plain": [
       "'d:\\\\OneDrive\\\\Documentos\\\\dev\\\\data engineer\\\\etl-scraping\\\\src\\\\transformacao'"
      ]
     },
     "execution_count": 6,
     "metadata": {},
     "output_type": "execute_result"
    }
   ],
   "source": [
    "os.getcwd()"
   ]
  },
  {
   "cell_type": "code",
   "execution_count": null,
   "id": "0da732d4",
   "metadata": {},
   "outputs": [],
   "source": []
  }
 ],
 "metadata": {
  "kernelspec": {
   "display_name": "etl-scraping",
   "language": "python",
   "name": "python3"
  },
  "language_info": {
   "codemirror_mode": {
    "name": "ipython",
    "version": 3
   },
   "file_extension": ".py",
   "mimetype": "text/x-python",
   "name": "python",
   "nbconvert_exporter": "python",
   "pygments_lexer": "ipython3",
   "version": "3.12.1"
  }
 },
 "nbformat": 4,
 "nbformat_minor": 5
}
